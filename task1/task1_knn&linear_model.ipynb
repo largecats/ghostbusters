{
 "cells": [
  {
   "cell_type": "code",
   "execution_count": 8,
   "metadata": {},
   "outputs": [],
   "source": [
    "import numpy as np\n",
    "import pandas as pd\n",
    "import matplotlib.pyplot as plt\n",
    "from sklearn.preprocessing import StandardScaler\n",
    "from sklearn.model_selection import train_test_split\n",
    "from sklearn.neighbors import KNeighborsRegressor\n",
    "import tensorflow as tf\n",
    "from tensorflow.keras import Sequential\n",
    "from tensorflow.keras import regularizers\n",
    "import csv\n",
    "import matplotlib.pyplot as plt\n",
    "from tensorflow.keras.optimizers import SGD\n",
    "from sklearn.ensemble import RandomForestRegressor\n",
    "from sklearn import preprocessing\n",
    "import pylab as pl\n",
    "from sklearn import linear_model"
   ]
  },
  {
   "cell_type": "code",
   "execution_count": 9,
   "metadata": {},
   "outputs": [],
   "source": [
    "df1=pd.read_csv(r\"C:\\Users\\Lenovo\\Desktop\\cs5228\\project\\重改数据\\train_final_complete.csv\")\n",
    "df2=pd.read_csv(r\"C:\\Users\\Lenovo\\Desktop\\cs5228\\project\\重改数据\\test_final_complete_cleaned.csv\")"
   ]
  },
  {
   "cell_type": "code",
   "execution_count": 10,
   "metadata": {},
   "outputs": [],
   "source": [
    "X_train_2 = df1.loc[:, [\"built_year\",\"num_beds\",\"num_beds\",\"lat\",\"lng\",\"property_type_ordinal\",\"tenure_group\",\"name_of_nearest_IHL_ordinal\",\"name_of_nearest_BN_ordinal\",\"name_of_nearest_CR_ordinal\",\"dist_to_nearest_important_mrt_rounded\",\"number_of_nearby_shopping_malls\",\"number_of_nearby_primary_schools\",\"number_of_nearby_secondary_schools\",\"subzone_per_price_encoded\",\"size_sqft\"]]\n",
    "X_train_size=df1.loc[:,[\"size_sqft\"]]\n",
    "y_train = df1.loc[:,[\"per_price\"]]\n",
    "y_train_price=df1.loc[:,[\"price\"]]\n",
    "X_test_2 = df2.loc[:, [\"built_year\",\"num_beds\",\"num_beds\",\"lat\",\"lng\",\"property_type_ordinal\",\"tenure_group\",\"name_of_nearest_IHL_ordinal\",\"name_of_nearest_BN_ordinal\",\"name_of_nearest_CR_ordinal\",\"dist_to_nearest_important_mrt_rounded\",\"number_of_nearby_shopping_malls\",\"number_of_nearby_primary_schools\",\"number_of_nearby_secondary_schools\",\"subzone_per_price_encoded\",\"size_sqft\"]]\n",
    "X_test_size=df2.loc[:,[\"size_sqft\"]]"
   ]
  },
  {
   "cell_type": "code",
   "execution_count": 11,
   "metadata": {},
   "outputs": [],
   "source": [
    "scaler = StandardScaler()\n",
    "scaler.fit(X_train_2)\n",
    "X_train_2 = scaler.transform(X_train_2)\n",
    "X_test_2 = scaler.transform(X_test_2)"
   ]
  },
  {
   "cell_type": "code",
   "execution_count": 5,
   "metadata": {},
   "outputs": [],
   "source": [
    "#linear\n",
    "linear=linear_model.LinearRegression()\n",
    "linear.fit(X_train_2,y_train)\n",
    "y_pred_linear = linear.predict(X_test_2) \n",
    "ans_linear=X_test_size*y_pred_linear\n",
    "df3_linear= pd.DataFrame(ans_linear)"
   ]
  },
  {
   "cell_type": "code",
   "execution_count": 6,
   "metadata": {},
   "outputs": [],
   "source": [
    "#knn \n",
    "#choose n\n",
    "loss=[]\n",
    "for k in range(2,20):\n",
    "    clf1 = KNeighborsRegressor(n_neighbors=k,weights=\"distance\", algorithm=\"kd_tree\",p=2, metric=\"minkowski\")\n",
    "    clf1.fit(X_train_2,y_train)\n",
    "    y_pred_train_1 = clf1.predict(X_train_2)\n",
    "    losse=0\n",
    "    for i in range(len(y_train)):\n",
    "        losse = losse+(y_pred_train_1[i][0]-y_train[\"per_price\"][i])**2\n",
    "    loss.append(losse)"
   ]
  },
  {
   "cell_type": "code",
   "execution_count": 7,
   "metadata": {},
   "outputs": [
    {
     "data": {
      "text/plain": [
       "[<matplotlib.lines.Line2D at 0x16ef06e2700>]"
      ]
     },
     "execution_count": 7,
     "metadata": {},
     "output_type": "execute_result"
    },
    {
     "data": {
      "image/png": "[encoded data removed]",
      "text/plain": [
       "<Figure size 432x288 with 1 Axes>"
      ]
     },
     "metadata": {
      "needs_background": "light"
     },
     "output_type": "display_data"
    }
   ],
   "source": [
    "num1=[i for i in range(2,20)]\n",
    "plt.plot(num1,loss)"
   ]
  },
  {
   "cell_type": "code",
   "execution_count": 12,
   "metadata": {},
   "outputs": [],
   "source": [
    "#choose n=5\n",
    "clf1 = KNeighborsRegressor(n_neighbors=5,weights=\"distance\", algorithm=\"kd_tree\",p=2, metric=\"minkowski\")\n",
    "clf1.fit(X_train_2,y_train)\n",
    "y_pred_test_2 = clf1.predict(X_test_2)\n",
    "ans_knn2=X_test_size*y_pred_test_2\n",
    "df3= pd.DataFrame(ans_knn2)"
   ]
  },
  {
   "cell_type": "code",
   "execution_count": 14,
   "metadata": {},
   "outputs": [],
   "source": [
    "#EDA linear model outcome on different price range\n",
    "df_group1=df1[df1[\"per_price\"]<=600]\n",
    "X_train_g1 = df_group1.loc[:, [\"built_year\",\"num_beds\",\"num_beds\",\"lat\",\"lng\",\"property_type_ordinal\",\"tenure_group\",\"name_of_nearest_IHL_ordinal\",\"name_of_nearest_BN_ordinal\",\"name_of_nearest_CR_ordinal\",\"dist_to_nearest_important_mrt_rounded\",\"number_of_nearby_shopping_malls\",\"number_of_nearby_primary_schools\",\"number_of_nearby_secondary_schools\",\"subzone_per_price_encoded\",\"size_sqft\"]]\n",
    "y_train_g1 = df_group1.loc[:,[\"per_price\"]]\n",
    "X_train_g1_size = df_group1.loc[:,[\"size_sqft\"]]\n",
    "y_train_g1_price = df_group1.loc[:,[\"price\"]]\n",
    "df_group2=df1[(df1[\"per_price\"]>600) & (df1[\"per_price\"]<=1200)]\n",
    "X_train_g2 = df_group2.loc[:, [\"built_year\",\"num_beds\",\"num_beds\",\"lat\",\"lng\",\"property_type_ordinal\",\"tenure_group\",\"name_of_nearest_IHL_ordinal\",\"name_of_nearest_BN_ordinal\",\"name_of_nearest_CR_ordinal\",\"dist_to_nearest_important_mrt_rounded\",\"number_of_nearby_shopping_malls\",\"number_of_nearby_primary_schools\",\"number_of_nearby_secondary_schools\",\"subzone_per_price_encoded\",\"size_sqft\"]]\n",
    "y_train_g2 = df_group2.loc[:,[\"per_price\"]]\n",
    "X_train_g2_size = df_group2.loc[:,[\"size_sqft\"]]\n",
    "y_train_g2_price = df_group2.loc[:,[\"price\"]]\n",
    "df_group3=df1[(1200< df1[\"per_price\"]) & (df1[\"per_price\"]<=1800)]\n",
    "X_train_g3 = df_group3.loc[:, [\"built_year\",\"num_beds\",\"num_beds\",\"lat\",\"lng\",\"property_type_ordinal\",\"tenure_group\",\"name_of_nearest_IHL_ordinal\",\"name_of_nearest_BN_ordinal\",\"name_of_nearest_CR_ordinal\",\"dist_to_nearest_important_mrt_rounded\",\"number_of_nearby_shopping_malls\",\"number_of_nearby_primary_schools\",\"number_of_nearby_secondary_schools\",\"subzone_per_price_encoded\",\"size_sqft\"]]\n",
    "y_train_g3 = df_group3.loc[:,[\"per_price\"]]\n",
    "X_train_g3_size = df_group3.loc[:,[\"size_sqft\"]]\n",
    "y_train_g3_price = df_group3.loc[:,[\"price\"]]\n",
    "df_group4=df1[(1800< df1[\"per_price\"]) & (df1[\"per_price\"]<=2400)]\n",
    "X_train_g4 = df_group4.loc[:, [\"built_year\",\"num_beds\",\"num_beds\",\"lat\",\"lng\",\"property_type_ordinal\",\"tenure_group\",\"name_of_nearest_IHL_ordinal\",\"name_of_nearest_BN_ordinal\",\"name_of_nearest_CR_ordinal\",\"dist_to_nearest_important_mrt_rounded\",\"number_of_nearby_shopping_malls\",\"number_of_nearby_primary_schools\",\"number_of_nearby_secondary_schools\",\"subzone_per_price_encoded\",\"size_sqft\"]]\n",
    "y_train_g4 = df_group4.loc[:,[\"per_price\"]]\n",
    "X_train_g4_size = df_group4.loc[:,[\"size_sqft\"]]\n",
    "y_train_g4_price = df_group4.loc[:,[\"price\"]]\n",
    "df_group5=df1[(2400< df1[\"per_price\"]) & (df1[\"per_price\"]<=3000)]\n",
    "X_train_g5 = df_group5.loc[:, [\"built_year\",\"num_beds\",\"num_beds\",\"lat\",\"lng\",\"property_type_ordinal\",\"tenure_group\",\"name_of_nearest_IHL_ordinal\",\"name_of_nearest_BN_ordinal\",\"name_of_nearest_CR_ordinal\",\"dist_to_nearest_important_mrt_rounded\",\"number_of_nearby_shopping_malls\",\"number_of_nearby_primary_schools\",\"number_of_nearby_secondary_schools\",\"subzone_per_price_encoded\",\"size_sqft\"]]\n",
    "y_train_g5 = df_group5.loc[:,[\"per_price\"]]\n",
    "X_train_g5_size = df_group5.loc[:,[\"size_sqft\"]]\n",
    "y_train_g5_price = df_group5.loc[:,[\"price\"]]\n",
    "df_group6=df1[df1[\"per_price\"]> 3000]\n",
    "X_train_g6 = df_group6.loc[:, [\"built_year\",\"num_beds\",\"num_beds\",\"lat\",\"lng\",\"property_type_ordinal\",\"tenure_group\",\"name_of_nearest_IHL_ordinal\",\"name_of_nearest_BN_ordinal\",\"name_of_nearest_CR_ordinal\",\"dist_to_nearest_important_mrt_rounded\",\"number_of_nearby_shopping_malls\",\"number_of_nearby_primary_schools\",\"number_of_nearby_secondary_schools\",\"subzone_per_price_encoded\",\"size_sqft\"]]\n",
    "y_train_g6 = df_group6.loc[:,[\"per_price\"]]\n",
    "X_train_g6_size = df_group6.loc[:,[\"size_sqft\"]]\n",
    "y_train_g6_price = df_group6.loc[:,[\"price\"]]\n",
    "X_train_g1=scaler.transform(X_train_g1)\n",
    "X_train_g2=scaler.transform(X_train_g2)\n",
    "X_train_g3=scaler.transform(X_train_g3)\n",
    "X_train_g4=scaler.transform(X_train_g4)\n",
    "X_train_g5=scaler.transform(X_train_g5)\n",
    "X_train_g6=scaler.transform(X_train_g6)"
   ]
  },
  {
   "cell_type": "code",
   "execution_count": 16,
   "metadata": {},
   "outputs": [
    {
     "data": {
      "text/plain": [
       "[<matplotlib.lines.Line2D at 0x16ef0550940>]"
      ]
     },
     "execution_count": 16,
     "metadata": {},
     "output_type": "execute_result"
    },
    {
     "data": {
      "image/png": "[encoded data removed]",
      "text/plain": [
       "<Figure size 432x288 with 1 Axes>"
      ]
     },
     "metadata": {
      "needs_background": "light"
     },
     "output_type": "display_data"
    }
   ],
   "source": [
    "y_pred_linear_1 = linear.predict(X_train_g1)\n",
    "loss1=np.mean(np.square(y_pred_linear_1.T[0]*X_train_g1_size[\"size_sqft\"].to_numpy()-y_train_g1_price[\"price\"].to_numpy()))\n",
    "y_pred_linear_2 = linear.predict(X_train_g2)\n",
    "loss2=np.mean(np.square(y_pred_linear_2.T[0]*X_train_g2_size[\"size_sqft\"].to_numpy()-y_train_g2_price[\"price\"].to_numpy()))\n",
    "y_pred_linear_3 = linear.predict(X_train_g3)\n",
    "loss3=np.mean(np.square(y_pred_linear_3.T[0]*X_train_g3_size[\"size_sqft\"].to_numpy()-y_train_g3_price[\"price\"].to_numpy()))\n",
    "y_pred_linear_4 = linear.predict(X_train_g4)\n",
    "loss4=np.mean(np.square(y_pred_linear_4.T[0]*X_train_g4_size[\"size_sqft\"].to_numpy()-y_train_g4_price[\"price\"].to_numpy()))\n",
    "y_pred_linear_5 = linear.predict(X_train_g5)\n",
    "loss5=np.mean(np.square(y_pred_linear_5.T[0]*X_train_g5_size[\"size_sqft\"].to_numpy()-y_train_g5_price[\"price\"].to_numpy()))\n",
    "y_pred_linear_6 = linear.predict(X_train_g6)\n",
    "loss6=np.mean(np.square(y_pred_linear_6.T[0]*X_train_g6_size[\"size_sqft\"].to_numpy()-y_train_g6_price[\"price\"].to_numpy()))\n",
    "loss=[loss1,loss2,loss3,loss4,loss5,loss6]\n",
    "segment=[\"segment1\",\"segment2\",\"segment3\",\"segment4\",\"segment5\",\"segment6\"]\n",
    "plt.plot(segment,loss)"
   ]
  },
  {
   "cell_type": "code",
   "execution_count": 17,
   "metadata": {},
   "outputs": [
    {
     "data": {
      "text/plain": [
       "[<matplotlib.lines.Line2D at 0x16ef05b1c40>]"
      ]
     },
     "execution_count": 17,
     "metadata": {},
     "output_type": "execute_result"
    },
    {
     "data": {
      "image/png": "[encoded data removed]",
      "text/plain": [
       "<Figure size 432x288 with 1 Axes>"
      ]
     },
     "metadata": {
      "needs_background": "light"
     },
     "output_type": "display_data"
    }
   ],
   "source": [
    "#EDA knn model outcome on different price range\n",
    "y_pred_train_1 = clf1.predict(X_train_g1)\n",
    "y_pred_train_2 = clf1.predict(X_train_g2)\n",
    "y_pred_train_3 = clf1.predict(X_train_g3)\n",
    "y_pred_train_4 = clf1.predict(X_train_g4)\n",
    "y_pred_train_5 = clf1.predict(X_train_g5)\n",
    "y_pred_train_6 = clf1.predict(X_train_g6)\n",
    "y_pred_knn_1 = clf1.predict(X_train_g1)\n",
    "loss1_knn=np.mean(np.square(y_pred_knn_1.T[0]*X_train_g1_size[\"size_sqft\"].to_numpy()-y_train_g1_price[\"price\"].to_numpy()))\n",
    "y_pred_knn_2 = clf1.predict(X_train_g2)\n",
    "loss2_knn=np.mean(np.square(y_pred_knn_2.T[0]*X_train_g2_size[\"size_sqft\"].to_numpy()-y_train_g2_price[\"price\"].to_numpy()))\n",
    "y_pred_knn_3 = clf1.predict(X_train_g3)\n",
    "loss3_knn=np.mean(np.square(y_pred_knn_3.T[0]*X_train_g3_size[\"size_sqft\"].to_numpy()-y_train_g3_price[\"price\"].to_numpy()))\n",
    "y_pred_knn_4 = clf1.predict(X_train_g4)\n",
    "loss4_knn=np.mean(np.square(y_pred_knn_4.T[0]*X_train_g4_size[\"size_sqft\"].to_numpy()-y_train_g4_price[\"price\"].to_numpy()))\n",
    "y_pred_knn_5 = clf1.predict(X_train_g5)\n",
    "loss5_knn=np.mean(np.square(y_pred_knn_5.T[0]*X_train_g5_size[\"size_sqft\"].to_numpy()-y_train_g5_price[\"price\"].to_numpy()))\n",
    "y_pred_knn_6 = clf1.predict(X_train_g6)\n",
    "loss6_knn=np.mean(np.square(y_pred_knn_6.T[0]*X_train_g6_size[\"size_sqft\"].to_numpy()-y_train_g6_price[\"price\"].to_numpy()))\n",
    "segment=[\"segment1\",\"segment2\",\"segment3\",\"segment4\",\"segment5\",\"segment6\"]\n",
    "loss_knn=[loss1_knn,loss2_knn,loss3_knn,loss4_knn,loss5_knn,loss6_knn]\n",
    "plt.plot(segment,loss_knn)"
   ]
  },
  {
   "cell_type": "code",
   "execution_count": null,
   "metadata": {},
   "outputs": [],
   "source": []
  }
 ],
 "metadata": {
  "kernelspec": {
   "display_name": "Python 3",
   "language": "python",
   "name": "python3"
  },
  "language_info": {
   "codemirror_mode": {
    "name": "ipython",
    "version": 3
   },
   "file_extension": ".py",
   "mimetype": "text/x-python",
   "name": "python",
   "nbconvert_exporter": "python",
   "pygments_lexer": "ipython3",
   "version": "3.8.5"
  }
 },
 "nbformat": 4,
 "nbformat_minor": 4
}
