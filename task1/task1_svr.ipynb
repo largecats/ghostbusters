{
 "cells": [
  {
   "cell_type": "code",
   "execution_count": null,
   "metadata": {
    "collapsed": true,
    "pycharm": {
     "name": "#%%\n"
    }
   },
   "outputs": [],
   "source": [
    "import numpy as np\n",
    "import pandas as pd\n",
    "from sklearn.metrics import mean_squared_error, make_scorer\n",
    "from sklearn.preprocessing import StandardScaler\n",
    "from sklearn.svm import SVR\n",
    "from sklearn.model_selection import train_test_split, GridSearchCV\n",
    "import matplotlib.pyplot as plt"
   ]
  },
  {
   "cell_type": "code",
   "execution_count": null,
   "outputs": [],
   "source": [
    "# loading data\n",
    "X = pd.read_csv('train_final_complete.csv')[['built_year', 'num_beds', 'num_baths', 'lat', 'lng', 'size_sqft',\n",
    "                    'tenure_group', 'subzone_per_price_encoded',\n",
    "                    'property_type_ordinal',\n",
    "                    #mrt\n",
    "                    'dist_to_nearest_important_mrt_rounded',\n",
    "                    #schools\n",
    "                    'number_of_nearby_primary_schools',\n",
    "                    'number_of_nearby_secondary_schools',\n",
    "                    #shopping mall\n",
    "                    'number_of_nearby_shopping_malls',\n",
    "                    #CR\n",
    "                    #'name_of_nearest_IHL_ordinal',\n",
    "                    'name_of_nearest_BN_ordinal',\n",
    "                    'name_of_nearest_CR_ordinal']].to_numpy()\n",
    "\n",
    "Y_per_price = pd.read_csv('train_final_complete.csv')[['per_price']].to_numpy()\n",
    "Y_price = pd.read_csv('train_final_complete.csv')[['price']].to_numpy()\n",
    "df_final = pd.read_csv('train_final_complete.csv')"
   ],
   "metadata": {
    "collapsed": false,
    "pycharm": {
     "name": "#%%\n"
    }
   }
  },
  {
   "cell_type": "code",
   "execution_count": null,
   "outputs": [],
   "source": [
    "def gen_seg(minthre,maxthre,gt):\n",
    "    return gt[(gt.per_price>minthre)&(gt.per_price<=maxthre)].index\n",
    "\n",
    "def segment():\n",
    "    thres = [[0, 600], [600, 1200], [1200, 1800], [1800, 2400], [2400, 3000], [3000, df_final.per_price.max() + 100]]\n",
    "    mses = []\n",
    "\n",
    "    ss_x = StandardScaler()\n",
    "    train_x = ss_x.fit_transform(X)\n",
    "\n",
    "    svr = SVR()\n",
    "    svr.fit(train_x, Y_per_price)\n",
    "\n",
    "    for thre in thres:\n",
    "        idxs = gen_seg(thre[0], thre[1], df_final)\n",
    "        gt = df_final.iloc[idxs].per_price\n",
    "        pred = svr.predict(train_x[idxs])\n",
    "        mses.append(mean_squared_error(gt, pred))\n",
    "\n",
    "    plt.plot(['segment1', 'segment2', 'segment3', 'segment4', 'segment5', 'segment6'], mses)\n",
    "    plt.xlabel('Segment')  # 设置x轴的标签文本\n",
    "    plt.ylabel('RMSE')  # 设置y轴的标签文本\n",
    "    plt.show()"
   ],
   "metadata": {
    "collapsed": false,
    "pycharm": {
     "name": "#%%\n"
    }
   }
  },
  {
   "cell_type": "code",
   "execution_count": null,
   "outputs": [],
   "source": [
    "def svr_test_per_price():\n",
    "    ss_x = StandardScaler()\n",
    "    train_x = ss_x.fit_transform(X)\n",
    "\n",
    "\n",
    "    svr = SVR()\n",
    "    scorer = make_scorer(mean_squared_error, greater_is_better=False)\n",
    "    parameters = [{'kernel': ['rbf', 'poly', 'sigmoid'], 'gamma': [1e-3, 0.01, 1/15, ], 'C': [1]}]  # , 10, 100, 1000, 10000]}]\n",
    "    print(\"Tuning hyper-parameters\")\n",
    "    svr = GridSearchCV(svr, parameters, cv=5, scoring=scorer)\n",
    "    svr.fit(train_x, Y_per_price)\n",
    "    print(svr.best_params_)\n",
    "\n",
    "\n",
    "    test_X1 = pd.read_csv('test_final_complete_cleaned.csv')[['built_year', 'num_beds', 'num_baths', 'lat', 'lng', 'size_sqft',\n",
    "                    'tenure_group', 'subzone_per_price_encoded',\n",
    "                    'property_type_ordinal',\n",
    "                    #mrt\n",
    "                    'dist_to_nearest_important_mrt_rounded',\n",
    "                    #schools\n",
    "                    'number_of_nearby_primary_schools',\n",
    "                    'number_of_nearby_secondary_schools',\n",
    "                    #shopping mall\n",
    "                    'number_of_nearby_shopping_malls',\n",
    "                    #CR\n",
    "                    #'name_of_nearest_IHL_ordinal',\n",
    "                    'name_of_nearest_BN_ordinal',\n",
    "                    'name_of_nearest_CR_ordinal']].to_numpy()\n",
    "    test_X = test_X1.copy()\n",
    "    test_X = ss_x.transform(test_X)\n",
    "\n",
    "    predict_Y = svr.predict(test_X)\n",
    "    # print(predict_Y)\n",
    "    result = predict_Y * test_X1[:, 5]\n",
    "    # print(result)\n",
    "\n",
    "    df_predict = pd.DataFrame(result)\n",
    "    print(df_predict)\n",
    "\n",
    "    # MSE = mean_squared_error()\n",
    "\n",
    "    import os\n",
    "    os.makedirs('folder', exist_ok=True)\n",
    "    df_predict.to_csv('folder/out_pp.csv')"
   ],
   "metadata": {
    "collapsed": false,
    "pycharm": {
     "name": "#%%\n"
    }
   }
  },
  {
   "cell_type": "code",
   "execution_count": null,
   "outputs": [],
   "source": [
    "segment()"
   ],
   "metadata": {
    "collapsed": false,
    "pycharm": {
     "name": "#%%\n"
    }
   }
  },
  {
   "cell_type": "code",
   "execution_count": null,
   "outputs": [],
   "source": [
    "svr_test_per_price()"
   ],
   "metadata": {
    "collapsed": false,
    "pycharm": {
     "name": "#%%\n"
    }
   }
  }
 ],
 "metadata": {
  "kernelspec": {
   "display_name": "Python 3",
   "language": "python",
   "name": "python3"
  },
  "language_info": {
   "codemirror_mode": {
    "name": "ipython",
    "version": 2
   },
   "file_extension": ".py",
   "mimetype": "text/x-python",
   "name": "python",
   "nbconvert_exporter": "python",
   "pygments_lexer": "ipython2",
   "version": "2.7.6"
  }
 },
 "nbformat": 4,
 "nbformat_minor": 0
}