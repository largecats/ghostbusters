{
 "cells": [
  {
   "cell_type": "code",
   "execution_count": 1,
   "metadata": {},
   "outputs": [],
   "source": [
    "import numpy as np\n",
    "import pandas as pd\n",
    "import matplotlib.pyplot as plt\n",
    "from sklearn import tree\n",
    "from sklearn.ensemble import RandomForestRegressor, GradientBoostingRegressor\n",
    "from sklearn.metrics import mean_squared_error\n",
    "import random\n",
    "#SVR\n",
    "from sklearn.svm import SVR"
   ]
  },
  {
   "cell_type": "code",
   "execution_count": 2,
   "metadata": {},
   "outputs": [],
   "source": [
    "# Libraries for MLP\n",
    "from mlp import *\n",
    "import tqdm\n",
    "from torch.utils.data import DataLoader, Dataset\n",
    "from tqdm import tqdm\n",
    "from sklearn.preprocessing import StandardScaler"
   ]
  },
  {
   "cell_type": "code",
   "execution_count": 46,
   "metadata": {},
   "outputs": [],
   "source": [
    "from sklearn.neighbors import KNeighborsRegressor\n",
    "from sklearn.linear_model import LinearRegression"
   ]
  },
  {
   "cell_type": "code",
   "execution_count": 3,
   "metadata": {},
   "outputs": [],
   "source": [
    "# Reproducibility\n",
    "def set_seeds(seed):\n",
    "    torch.manual_seed(seed)\n",
    "    torch.cuda.manual_seed_all(seed)\n",
    "    np.random.seed(seed)\n",
    "    random.seed(seed)\n",
    "#8\n",
    "set_seeds(8)"
   ]
  },
  {
   "cell_type": "code",
   "execution_count": 4,
   "metadata": {},
   "outputs": [],
   "source": [
    "# Load data\n",
    "df_train = pd.read_csv('train_final_complete.csv')"
   ]
  },
  {
   "cell_type": "code",
   "execution_count": 5,
   "metadata": {},
   "outputs": [],
   "source": [
    "def format_predicted(predicted):\n",
    "  df_predicted = pd.DataFrame(predicted)\n",
    "  df_predicted.columns = ['Predicted']\n",
    "  df_predicted['Id'] = df_predicted.index\n",
    "  df_predicted = df_predicted.reindex(columns=['Id', 'Predicted'])\n",
    "  return df_predicted"
   ]
  },
  {
   "cell_type": "code",
   "execution_count": 6,
   "metadata": {},
   "outputs": [],
   "source": [
    "#  Segment train data based on price/size_sqft\n",
    "def gen_seg(minthre,maxthre,gt):\n",
    "    return gt[(gt.per_price>minthre)&(gt.per_price<=maxthre)].index\n",
    "\n",
    "thres = [[0,600],[600,1200],[1200,1800],[1800,2400],[2400,3000],[3000,df_train.price.max()+1]]"
   ]
  },
  {
   "cell_type": "code",
   "execution_count": 7,
   "metadata": {},
   "outputs": [],
   "source": [
    "feature_list = ['built_year', 'num_beds', 'num_baths', 'lat', 'lng', 'size_sqft',\n",
    "                    'tenure_group', 'subzone_per_price_encoded',\n",
    "                    'property_type_ordinal',\n",
    "                    #mrt\n",
    "                    'dist_to_nearest_important_mrt_rounded',\n",
    "                    #schools\n",
    "                    'number_of_nearby_primary_schools', \n",
    "                    'number_of_nearby_secondary_schools', \n",
    "                    #shopping mall\n",
    "                    'number_of_nearby_shopping_malls',\n",
    "                    #CR\n",
    "                    'name_of_nearest_BN_ordinal',\n",
    "                    'name_of_nearest_CR_ordinal']\n",
    "X_train = df_train[feature_list]\n",
    "y_train = df_train['per_price']"
   ]
  },
  {
   "cell_type": "markdown",
   "metadata": {},
   "source": [
    "<h2> Random Forest </h2>"
   ]
  },
  {
   "cell_type": "code",
   "execution_count": 8,
   "metadata": {},
   "outputs": [
    {
     "data": {
      "text/plain": [
       "RandomForestRegressor(max_depth=50, max_features=8, n_estimators=200)"
      ]
     },
     "execution_count": 8,
     "metadata": {},
     "output_type": "execute_result"
    }
   ],
   "source": [
    "#Fit Model\n",
    "best_random_forest_regressor = RandomForestRegressor(max_depth=50, max_features=8, n_estimators=200)\n",
    "best_random_forest_regressor.fit(X_train,y_train)"
   ]
  },
  {
   "cell_type": "code",
   "execution_count": 13,
   "metadata": {},
   "outputs": [],
   "source": [
    "# Make preiction\n",
    "random_forest_predicted = best_random_forest_regressor.predict(X_train)\n",
    "random_forest_predicted = format_predicted(random_forest_predicted)"
   ]
  },
  {
   "cell_type": "code",
   "execution_count": 15,
   "metadata": {},
   "outputs": [
    {
     "name": "stdout",
     "output_type": "stream",
     "text": [
      "[28.06964928110318, 64.95865769422626, 98.26373927958531, 136.32449233365378, 197.2206598225283, 643.3012559977133]\n"
     ]
    }
   ],
   "source": [
    "random_forest_mses = []\n",
    "for thre in thres:\n",
    "    idxs = gen_seg(thre[0],thre[1],df_train)\n",
    "    gt = df_train.iloc[idxs].per_price\n",
    "    pred = random_forest_predicted[random_forest_predicted.Id.isin(idxs)].Predicted\n",
    "    random_forest_mses.append(mean_squared_error(gt,pred,squared=False))\n",
    "print(random_forest_mses)"
   ]
  },
  {
   "cell_type": "markdown",
   "metadata": {},
   "source": [
    "<h2> Gradient Boosting </h2>"
   ]
  },
  {
   "cell_type": "code",
   "execution_count": 17,
   "metadata": {},
   "outputs": [
    {
     "data": {
      "text/plain": [
       "GradientBoostingRegressor(learning_rate=0.5, max_depth=4, n_estimators=400)"
      ]
     },
     "execution_count": 17,
     "metadata": {},
     "output_type": "execute_result"
    }
   ],
   "source": [
    "#Fit model\n",
    "best_gradient_boosting_regressor = GradientBoostingRegressor(learning_rate=0.5, max_depth=4, n_estimators=400)\n",
    "best_gradient_boosting_regressor.fit(X_train,y_train)"
   ]
  },
  {
   "cell_type": "code",
   "execution_count": 18,
   "metadata": {},
   "outputs": [],
   "source": [
    "#Make prediction\n",
    "gradient_boosting_predicted = best_gradient_boosting_regressor.predict(X_train)\n",
    "gradient_boosting_predicted = format_predicted(gradient_boosting_predicted)"
   ]
  },
  {
   "cell_type": "code",
   "execution_count": 19,
   "metadata": {},
   "outputs": [
    {
     "name": "stdout",
     "output_type": "stream",
     "text": [
      "[42.23209527269612, 76.36581475225928, 112.71345603323813, 152.04163673777836, 197.4632371339467, 598.8567779577959]\n"
     ]
    }
   ],
   "source": [
    "gradient_boosting_mses = []\n",
    "for thre in thres:\n",
    "    idxs = gen_seg(thre[0],thre[1],df_train)\n",
    "    gt = df_train.iloc[idxs].per_price\n",
    "    pred = gradient_boosting_predicted[gradient_boosting_predicted.Id.isin(idxs)].Predicted\n",
    "    gradient_boosting_mses.append(mean_squared_error(gt,pred,squared=False))\n",
    "print(gradient_boosting_mses)"
   ]
  },
  {
   "cell_type": "markdown",
   "metadata": {},
   "source": [
    "<h2> Multilayer Perceptron</h2>"
   ]
  },
  {
   "cell_type": "code",
   "execution_count": 20,
   "metadata": {},
   "outputs": [],
   "source": [
    "def mlp_predict(model,data):\n",
    "    device = torch.device('cuda' if torch.cuda.is_available() else 'cpu')\n",
    "    model.load_state_dict(torch.load('./model.pth',map_location=device))\n",
    "    model.to(device)\n",
    "    model.eval()\n",
    "    prices = []\n",
    "    test_dataset = houseTestDataset(data)\n",
    "    with torch.no_grad():\n",
    "        for step, data in enumerate(tqdm(test_dataset)):\n",
    "            input_tensor = data.to(device)\n",
    "            pred = model(input_tensor).detach().cpu().item()\n",
    "            prices.append(pred)\n",
    "    res = np.asarray(prices)\n",
    "    return res"
   ]
  },
  {
   "cell_type": "code",
   "execution_count": 21,
   "metadata": {},
   "outputs": [],
   "source": [
    "# Normalize feature data\n",
    "scaler = StandardScaler()\n",
    "scaler.fit(X_train)\n",
    "X_train_normalized = scaler.transform(X_train)"
   ]
  },
  {
   "cell_type": "code",
   "execution_count": 22,
   "metadata": {},
   "outputs": [
    {
     "name": "stderr",
     "output_type": "stream",
     "text": [
      "100%|██████████| 20003/20003 [00:01<00:00, 13486.47it/s]\n"
     ]
    }
   ],
   "source": [
    "model = BaseNN(len(feature_list))\n",
    "mlp_predicted = mlp_predict(model,X_train_normalized)\n",
    "mlp_predicted = format_predicted(mlp_predicted)"
   ]
  },
  {
   "cell_type": "code",
   "execution_count": 23,
   "metadata": {},
   "outputs": [
    {
     "name": "stdout",
     "output_type": "stream",
     "text": [
      "[76.31714263931232, 148.5574925810601, 211.18606244259203, 232.90581676227998, 228.65662120747527, 820.802261432041]\n"
     ]
    }
   ],
   "source": [
    "mlp_mses = []\n",
    "for thre in thres:\n",
    "    idxs = gen_seg(thre[0],thre[1],df_train)\n",
    "    gt = df_train.iloc[idxs].per_price\n",
    "    pred = mlp_predicted[mlp_predicted.Id.isin(idxs)].Predicted\n",
    "    mlp_mses.append(mean_squared_error(gt,pred,squared=False))\n",
    "print(mlp_mses)"
   ]
  },
  {
   "cell_type": "markdown",
   "metadata": {},
   "source": [
    "<h3> SVR</h3>"
   ]
  },
  {
   "cell_type": "code",
   "execution_count": 24,
   "metadata": {},
   "outputs": [
    {
     "data": {
      "text/plain": [
       "SVR(C=1, gamma=0.06666666666666667, kernel='sigmoid')"
      ]
     },
     "execution_count": 24,
     "metadata": {},
     "output_type": "execute_result"
    }
   ],
   "source": [
    "#Fit model\n",
    "svr = SVR(C = 1, gamma = 0.06666666666666667, kernel= 'sigmoid')\n",
    "svr.fit(X_train_normalized, y_train)"
   ]
  },
  {
   "cell_type": "code",
   "execution_count": 34,
   "metadata": {},
   "outputs": [],
   "source": [
    "#Make prediction\n",
    "svr_predicted = svr.predict(X_train_normalized)\n",
    "svr_predicted = format_predicted(svr_predicted)"
   ]
  },
  {
   "cell_type": "code",
   "execution_count": 35,
   "metadata": {},
   "outputs": [
    {
     "name": "stdout",
     "output_type": "stream",
     "text": [
      "[275.69219048763193, 454.44902710561433, 451.63127198815977, 313.66735231594816, 324.9410883192466, 1489.778599710148]\n"
     ]
    }
   ],
   "source": [
    "svr_mses = []\n",
    "for thre in thres:\n",
    "    idxs = gen_seg(thre[0],thre[1],df_train)\n",
    "    gt = df_train.iloc[idxs].per_price \n",
    "    pred = svr_predicted[svr_predicted.Id.isin(idxs)].Predicted\n",
    "    svr_mses.append(mean_squared_error(gt,pred,squared=False))\n",
    "print(svr_mses)"
   ]
  },
  {
   "cell_type": "markdown",
   "metadata": {},
   "source": [
    "<h2> Stack Results </h2>"
   ]
  },
  {
   "cell_type": "code",
   "execution_count": 30,
   "metadata": {},
   "outputs": [],
   "source": [
    "# Weight obtained from stacking model\n",
    "random_forest_weight = 0.47945929358199335\n",
    "gradient_boosting_weight = 0.5205407064180066"
   ]
  },
  {
   "cell_type": "code",
   "execution_count": 31,
   "metadata": {},
   "outputs": [],
   "source": [
    "# weighted sum\n",
    "stack_predicted =(random_forest_weight*random_forest_predicted.Predicted + gradient_boosting_weight * gradient_boosting_predicted.Predicted)\n",
    "stack_predicted = format_predicted(stack_predicted)"
   ]
  },
  {
   "cell_type": "code",
   "execution_count": 33,
   "metadata": {},
   "outputs": [
    {
     "name": "stdout",
     "output_type": "stream",
     "text": [
      "[30.23799112208305, 63.37297549936731, 97.55264922941512, 136.56943392679588, 193.38163926242618, 606.7961594463287]\n"
     ]
    }
   ],
   "source": [
    "stack_mses = []\n",
    "for thre in thres:\n",
    "    idxs = gen_seg(thre[0],thre[1],df_train)\n",
    "    gt = df_train.iloc[idxs].per_price\n",
    "    pred = stack_predicted[stack_predicted.Id.isin(idxs)].Predicted\n",
    "    stack_mses.append(mean_squared_error(gt,pred,squared=False))\n",
    "print(stack_mses)"
   ]
  },
  {
   "cell_type": "markdown",
   "metadata": {},
   "source": [
    "<h2>KNN</h2>"
   ]
  },
  {
   "cell_type": "code",
   "execution_count": 39,
   "metadata": {},
   "outputs": [
    {
     "data": {
      "text/plain": [
       "KNeighborsRegressor(algorithm='kd_tree', weights='distance')"
      ]
     },
     "execution_count": 39,
     "metadata": {},
     "output_type": "execute_result"
    }
   ],
   "source": [
    "# Fit model\n",
    "knn = KNeighborsRegressor(n_neighbors=5,weights=\"distance\", algorithm=\"kd_tree\",p=2, metric=\"minkowski\")\n",
    "knn.fit(X_train_normalized,y_train)"
   ]
  },
  {
   "cell_type": "code",
   "execution_count": 54,
   "metadata": {},
   "outputs": [],
   "source": [
    "# Make Prediction\n",
    "knn_predocted = knn.predict(X_train_normalized)\n",
    "knn_predicted = format_predicted(knn_predocted)"
   ]
  },
  {
   "cell_type": "code",
   "execution_count": 55,
   "metadata": {},
   "outputs": [
    {
     "name": "stdout",
     "output_type": "stream",
     "text": [
      "[10.719147315116416, 29.4123134514335, 60.15787536721733, 112.70152367499111, 232.71848508835265, 566.3804525545422]\n"
     ]
    }
   ],
   "source": [
    "knn_mses = []\n",
    "for thre in thres:\n",
    "    idxs = gen_seg(thre[0],thre[1],df_train)\n",
    "    gt = df_train.iloc[idxs].per_price\n",
    "    pred = knn_predicted[knn_predicted.Id.isin(idxs)].Predicted\n",
    "    knn_mses.append(mean_squared_error(gt,pred,squared=False))\n",
    "print(knn_mses)"
   ]
  },
  {
   "cell_type": "markdown",
   "metadata": {},
   "source": [
    "<h2>Linear Regression</h2>"
   ]
  },
  {
   "cell_type": "code",
   "execution_count": 47,
   "metadata": {},
   "outputs": [
    {
     "data": {
      "text/plain": [
       "LinearRegression()"
      ]
     },
     "execution_count": 47,
     "metadata": {},
     "output_type": "execute_result"
    }
   ],
   "source": [
    "# Fit model\n",
    "linear=LinearRegression()\n",
    "linear.fit(X_train_normalized,y_train)"
   ]
  },
  {
   "cell_type": "code",
   "execution_count": 48,
   "metadata": {},
   "outputs": [],
   "source": [
    "# Make Prediction\n",
    "linear_predocted = linear.predict(X_train_normalized)\n",
    "linear_predicted = format_predicted(linear_predocted)"
   ]
  },
  {
   "cell_type": "code",
   "execution_count": 49,
   "metadata": {},
   "outputs": [
    {
     "name": "stdout",
     "output_type": "stream",
     "text": [
      "[239.84728647359034, 390.6719079973787, 448.5956273852997, 340.1956920382704, 311.1725617015108, 1327.5306569975414]\n"
     ]
    }
   ],
   "source": [
    "linear_mses = []\n",
    "for thre in thres:\n",
    "    idxs = gen_seg(thre[0],thre[1],df_train)\n",
    "    gt = df_train.iloc[idxs].per_price\n",
    "    pred = linear_predicted[linear_predicted.Id.isin(idxs)].Predicted\n",
    "    linear_mses.append(mean_squared_error(gt,pred,squared=False))\n",
    "print(linear_mses)"
   ]
  },
  {
   "cell_type": "markdown",
   "metadata": {},
   "source": [
    "<h2> Plot Graph </h2>"
   ]
  },
  {
   "cell_type": "code",
   "execution_count": 52,
   "metadata": {},
   "outputs": [
    {
     "data": {
      "image/png": "[encoded data removed]",
      "text/plain": [
       "<Figure size 640x480 with 1 Axes>"
      ]
     },
     "metadata": {},
     "output_type": "display_data"
    }
   ],
   "source": [
    "length = 6\n",
    "x_labels = ['<=600', '600~1200','1200~1800', '1800~2400', '2400~3000', '>3000']\n",
    "\n",
    "# Set plot parameters\n",
    "fig, ax = plt.subplots()\n",
    "width = 0.1 # width of bar\n",
    "x = np.arange(length)\n",
    "\n",
    "ax.bar(x, random_forest_mses, width, color='#000080', label='Random Forest')\n",
    "ax.bar(x + width, gradient_boosting_mses, width, color='#0F52BA', label='Gradient Boosting')\n",
    "ax.bar(x + (2 * width), stack_mses, width, color='#6593F5', label='Stack model')\n",
    "ax.bar(x + (3 * width), mlp_mses, width, color='#73C2FB', label='MLP')\n",
    "ax.bar(x + (4 * width), knn_mses, width, color='#008080', label='KNN')\n",
    "ax.bar(x + (5 * width), svr_mses, width, color='#66b2b2', label='SVR model')\n",
    "ax.bar(x + (6 * width), linear_mses, width, color='#b2d8d8', label='Linear model')\n",
    "\n",
    "ax.set_ylabel('RMSE')\n",
    "\n",
    "ax.set_xticks(x + width * 5 /2)\n",
    "ax.set_xticklabels(x_labels)\n",
    "ax.set_xlabel('Price/sqft group(SGD)')\n",
    "ax.set_title('RMSE of different model on different segments')\n",
    "ax.legend()\n",
    "plt.grid(True, 'major', 'y', ls='--', lw=.5, c='k', alpha=.3)\n",
    "\n",
    "fig.tight_layout()\n",
    "plt.show()"
   ]
  }
 ],
 "metadata": {
  "kernelspec": {
   "display_name": "Python 3.8.8 ('base')",
   "language": "python",
   "name": "python3"
  },
  "language_info": {
   "codemirror_mode": {
    "name": "ipython",
    "version": 3
   },
   "file_extension": ".py",
   "mimetype": "text/x-python",
   "name": "python",
   "nbconvert_exporter": "python",
   "pygments_lexer": "ipython3",
   "version": "3.8.8"
  },
  "orig_nbformat": 4,
  "vscode": {
   "interpreter": {
    "hash": "cceb2fdb6d0d49712663a09c62496ac932ce62398c41e486b12dcc6178307130"
   }
  }
 },
 "nbformat": 4,
 "nbformat_minor": 2
}
