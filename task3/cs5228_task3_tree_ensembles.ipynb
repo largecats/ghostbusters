{
 "cells": [
  {
   "cell_type": "code",
   "execution_count": 25,
   "metadata": {},
   "outputs": [],
   "source": [
    "import pandas as pd\n",
    "import numpy as np\n",
    "import matplotlib.pyplot as plt\n",
    "from sklearn import tree\n",
    "from sklearn.ensemble import RandomForestRegressor, AdaBoostRegressor, GradientBoostingRegressor, StackingRegressor\n",
    "from sklearn.model_selection import train_test_split\n",
    "from sklearn.model_selection import GridSearchCV"
   ]
  },
  {
   "cell_type": "code",
   "execution_count": 56,
   "metadata": {},
   "outputs": [
    {
     "name": "stderr",
     "output_type": "stream",
     "text": [
      "<ipython-input-56-59cc2dff5940>:10: SettingWithCopyWarning: \n",
      "A value is trying to be set on a copy of a slice from a DataFrame\n",
      "\n",
      "See the caveats in the documentation: https://pandas.pydata.org/pandas-docs/stable/user_guide/indexing.html#returning-a-view-versus-a-copy\n",
      "  df_train[\"cando_count\"][i]=0\n",
      "<ipython-input-56-59cc2dff5940>:14: SettingWithCopyWarning: \n",
      "A value is trying to be set on a copy of a slice from a DataFrame\n",
      "\n",
      "See the caveats in the documentation: https://pandas.pydata.org/pandas-docs/stable/user_guide/indexing.html#returning-a-view-versus-a-copy\n",
      "  df_train[\"landed_count\"][i]=0\n",
      "<ipython-input-56-59cc2dff5940>:16: SettingWithCopyWarning: \n",
      "A value is trying to be set on a copy of a slice from a DataFrame\n",
      "\n",
      "See the caveats in the documentation: https://pandas.pydata.org/pandas-docs/stable/user_guide/indexing.html#returning-a-view-versus-a-copy\n",
      "  df_train[\"hdb_count\"][i]=1\n",
      "<ipython-input-56-59cc2dff5940>:8: SettingWithCopyWarning: \n",
      "A value is trying to be set on a copy of a slice from a DataFrame\n",
      "\n",
      "See the caveats in the documentation: https://pandas.pydata.org/pandas-docs/stable/user_guide/indexing.html#returning-a-view-versus-a-copy\n",
      "  df_train[\"cando_count\"][i]=1\n",
      "<ipython-input-56-59cc2dff5940>:18: SettingWithCopyWarning: \n",
      "A value is trying to be set on a copy of a slice from a DataFrame\n",
      "\n",
      "See the caveats in the documentation: https://pandas.pydata.org/pandas-docs/stable/user_guide/indexing.html#returning-a-view-versus-a-copy\n",
      "  df_train[\"hdb_count\"][i]=0\n",
      "<ipython-input-56-59cc2dff5940>:12: SettingWithCopyWarning: \n",
      "A value is trying to be set on a copy of a slice from a DataFrame\n",
      "\n",
      "See the caveats in the documentation: https://pandas.pydata.org/pandas-docs/stable/user_guide/indexing.html#returning-a-view-versus-a-copy\n",
      "  df_train[\"landed_count\"][i]=1\n"
     ]
    }
   ],
   "source": [
    "#create data\n",
    "df_train=pd.read_csv(\"train_final_complete.csv\")\n",
    "df_train.head(5)\n",
    "df_train[\"cando_count\"]=np.zeros(len(df_train[\"property_type\"]))\n",
    "df_train[\"landed_count\"]=np.zeros(len(df_train[\"property_type\"]))\n",
    "df_train[\"hdb_count\"]=np.zeros(len(df_train[\"property_type\"]))\n",
    "for i in range(len(df_train[\"property_type\"])):\n",
    "    if df_train[\"property_type\"][i]==\"condo\":\n",
    "        df_train[\"cando_count\"][i]=1\n",
    "    else:\n",
    "        df_train[\"cando_count\"][i]=0\n",
    "    if df_train[\"property_type\"][i]==\"landed\":\n",
    "        df_train[\"landed_count\"][i]=1\n",
    "    else:\n",
    "        df_train[\"landed_count\"][i]=0\n",
    "    if df_train[\"property_type\"][i]==\"hdb\":\n",
    "        df_train[\"hdb_count\"][i]=1\n",
    "    else:\n",
    "        df_train[\"hdb_count\"][i]=0\n",
    "\n",
    "    "
   ]
  },
  {
   "cell_type": "code",
   "execution_count": 64,
   "metadata": {},
   "outputs": [],
   "source": [
    "df_train_cando_count=df_train.groupby(\"subzone\")[\"cando_count\"].sum().to_frame()\n",
    "df_train_hdb_count=df_train.groupby(\"subzone\")[\"hdb_count\"].sum().to_frame()\n",
    "df_train_landed_count=df_train.groupby(\"subzone\")[\"landed_count\"].sum().to_frame()\n",
    "df_train_size_sqft=df_train.groupby(\"subzone\")[\"size_sqft\"].mean().to_frame()\n",
    "df_train_subzone_per_price_encoded=df_train.groupby(\"subzone\")[\"subzone_per_price_encoded\"].mean().to_frame()"
   ]
  },
  {
   "cell_type": "code",
   "execution_count": 41,
   "metadata": {},
   "outputs": [],
   "source": [
    "df_population=pd.read_csv(r\"C:\\Users\\Lenovo\\Desktop\\cs5228\\project\\auxiliary-data\\sg-subzones.csv\")"
   ]
  },
  {
   "cell_type": "code",
   "execution_count": 69,
   "metadata": {},
   "outputs": [],
   "source": [
    "df_task3=pd.merge(df_population,df_train_cando_count,how='left',left_on='name',right_on=\"subzone\")\n",
    "df_task3=pd.merge(df_task3,df_train_hdb_count,how='left',left_on='name',right_on=\"subzone\")\n",
    "df_task3=pd.merge(df_task3,df_train_landed_count,how='left',left_on='name',right_on=\"subzone\")\n",
    "df_task3=pd.merge(df_task3,df_train_size_sqft,how='left',left_on='name',right_on=\"subzone\")\n",
    "df_task3=pd.merge(df_task3,df_train_subzone_per_price_encoded,how='left',left_on='name',right_on=\"subzone\")\n"
   ]
  },
  {
   "cell_type": "code",
   "execution_count": 76,
   "metadata": {},
   "outputs": [],
   "source": [
    "df_task3.to_csv(\"train_task3.csv\",index=False,header=True)"
   ]
  },
  {
   "cell_type": "code",
   "execution_count": 3,
   "metadata": {},
   "outputs": [],
   "source": [
    "df2=pd.read_csv(\"task3.csv\",header=0)"
   ]
  },
  {
   "cell_type": "code",
   "execution_count": 26,
   "metadata": {},
   "outputs": [],
   "source": [
    "X = df2[[\"area_size\",\"cando_count\",\"hdb_count\",\"landed_count\",\"size_sqft\",\"subzone_per_price_encoded\",\"per_size\",\"per_area_size\",\"per_price\"]]\n",
    "y = df2[[\"population\"]]\n",
    "X_train,X_test,y_train,y_test=train_test_split(X,y,test_size=0.2,random_state=43)"
   ]
  },
  {
   "cell_type": "code",
   "execution_count": 27,
   "metadata": {
    "scrolled": true
   },
   "outputs": [
    {
     "name": "stdout",
     "output_type": "stream",
     "text": [
      "Best parameters set found: {'max_depth': 50, 'max_features': 8, 'n_estimators': 50}\n",
      "Best score: 0.6530137872623503\n"
     ]
    },
    {
     "name": "stderr",
     "output_type": "stream",
     "text": [
      "D:\\anaconda\\lib\\site-packages\\sklearn\\model_selection\\_search.py:765: DataConversionWarning: A column-vector y was passed when a 1d array was expected. Please change the shape of y to (n_samples,), for example using ravel().\n",
      "  self.best_estimator_.fit(X, y, **fit_params)\n"
     ]
    }
   ],
   "source": [
    "#random_forest\n",
    "parameters = {\n",
    "    'max_depth': [5, 10, 20, 50],\n",
    "    'n_estimators': [50, 100, 200, 400],\n",
    "    'max_features': [1, 2, 4, 8]\n",
    "}\n",
    "\n",
    "grid_search = GridSearchCV(\n",
    "    RandomForestRegressor(), \n",
    "    parameters, \n",
    "    cv=10, \n",
    "    n_jobs = -1) # use all processors\n",
    "grid_search.fit(X_train, y_train)\n",
    "\n",
    "print('Best parameters set found:', grid_search.best_params_)\n",
    "print('Best score:', grid_search.best_score_)\n",
    "best_random_forest_regressor = grid_search.best_estimator_"
   ]
  },
  {
   "cell_type": "code",
   "execution_count": 28,
   "metadata": {},
   "outputs": [
    {
     "data": {
      "text/plain": [
       "Text(0.5, 1.0, 'Feature Importance-random forest')"
      ]
     },
     "execution_count": 28,
     "metadata": {},
     "output_type": "execute_result"
    },
    {
     "data": {
      "image/png": "[encoded data removed]",
      "text/plain": [
       "<Figure size 864x432 with 1 Axes>"
      ]
     },
     "metadata": {
      "needs_background": "light"
     },
     "output_type": "display_data"
    }
   ],
   "source": [
    "reg = best_random_forest_regressor\n",
    "feature_importance = reg.feature_importances_\n",
    "sorted_idx = np.argsort(feature_importance)\n",
    "pos = np.arange(sorted_idx.shape[0]) + 0.5\n",
    "fig = plt.figure(figsize=(12, 6))\n",
    "plt.subplot(1, 2, 1)\n",
    "plt.barh(pos, feature_importance[sorted_idx], align=\"center\")\n",
    "plt.yticks(pos, np.array(X_train.columns)[sorted_idx])\n",
    "plt.title(\"Feature Importance-random forest\")"
   ]
  },
  {
   "cell_type": "code",
   "execution_count": 35,
   "metadata": {},
   "outputs": [
    {
     "name": "stdout",
     "output_type": "stream",
     "text": [
      "70876797.91183674\n"
     ]
    }
   ],
   "source": [
    "predicted = best_random_forest_regressor.predict(X_test)\n",
    "print(np.mean(np.square(predicted-y_test[\"population\"])))\n"
   ]
  },
  {
   "cell_type": "code",
   "execution_count": 36,
   "metadata": {},
   "outputs": [
    {
     "name": "stderr",
     "output_type": "stream",
     "text": [
      "D:\\anaconda\\lib\\site-packages\\sklearn\\utils\\validation.py:72: DataConversionWarning: A column-vector y was passed when a 1d array was expected. Please change the shape of y to (n_samples, ), for example using ravel().\n",
      "  return f(**kwargs)\n"
     ]
    },
    {
     "name": "stdout",
     "output_type": "stream",
     "text": [
      "Best parameters set found: {'learning_rate': 0.1, 'max_depth': 4, 'n_estimators': 400}\n",
      "Best score: 0.7479229964466702\n"
     ]
    }
   ],
   "source": [
    "#Gradient Boosting\n",
    "parameters = {\n",
    "    'learning_rate': [0.001, 0.01, 0.1, 0.5],\n",
    "    'max_depth': [4, 6, 8, 10],\n",
    "    'n_estimators': [50, 100, 200, 400]\n",
    "}\n",
    "\n",
    "grid_search = GridSearchCV(\n",
    "    GradientBoostingRegressor(), \n",
    "    parameters,\n",
    "    cv=10, \n",
    "    n_jobs = -1) # use all processors\n",
    "grid_search.fit(X_train, y_train)\n",
    "\n",
    "print('Best parameters set found:', grid_search.best_params_)\n",
    "print('Best score:', grid_search.best_score_)\n",
    "best_gradient_boosting_regressor = grid_search.best_estimator_"
   ]
  },
  {
   "cell_type": "code",
   "execution_count": 38,
   "metadata": {},
   "outputs": [
    {
     "name": "stdout",
     "output_type": "stream",
     "text": [
      "63760493.28520674\n"
     ]
    }
   ],
   "source": [
    "predicted = best_gradient_boosting_regressor.predict(X_test)\n",
    "print(np.mean(np.square(predicted-y_test[\"population\"])))"
   ]
  },
  {
   "cell_type": "code",
   "execution_count": 39,
   "metadata": {},
   "outputs": [
    {
     "data": {
      "text/plain": [
       "Text(0.5, 1.0, 'Feature Importance-gradient boosting')"
      ]
     },
     "execution_count": 39,
     "metadata": {},
     "output_type": "execute_result"
    },
    {
     "data": {
      "image/png": "[encoded data removed]",
      "text/plain": [
       "<Figure size 864x432 with 1 Axes>"
      ]
     },
     "metadata": {
      "needs_background": "light"
     },
     "output_type": "display_data"
    }
   ],
   "source": [
    "reg = best_gradient_boosting_regressor\n",
    "feature_importance = reg.feature_importances_\n",
    "sorted_idx = np.argsort(feature_importance)\n",
    "pos = np.arange(sorted_idx.shape[0]) + 0.5\n",
    "fig = plt.figure(figsize=(12, 6))\n",
    "plt.subplot(1, 2, 1)\n",
    "plt.barh(pos, feature_importance[sorted_idx], align=\"center\")\n",
    "plt.yticks(pos, np.array(X_train.columns)[sorted_idx])\n",
    "plt.title(\"Feature Importance-gradient boosting\")"
   ]
  },
  {
   "cell_type": "code",
   "execution_count": null,
   "metadata": {},
   "outputs": [],
   "source": []
  }
 ],
 "metadata": {
  "kernelspec": {
   "display_name": "Python 3",
   "language": "python",
   "name": "python3"
  },
  "language_info": {
   "codemirror_mode": {
    "name": "ipython",
    "version": 3
   },
   "file_extension": ".py",
   "mimetype": "text/x-python",
   "name": "python",
   "nbconvert_exporter": "python",
   "pygments_lexer": "ipython3",
   "version": "3.8.5"
  }
 },
 "nbformat": 4,
 "nbformat_minor": 4
}
